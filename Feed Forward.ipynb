{
 "cells": [
  {
   "cell_type": "markdown",
   "metadata": {},
   "source": [
    "# Feed Forward"
   ]
  },
  {
   "cell_type": "raw",
   "metadata": {},
   "source": [
    "ATTENTION:\n",
    "\n",
    "All submissions must be uploaded as .ipynb notebooks (Jupyter Notebook), unless specifically stated otherwise.\n",
    "Other file extensions are not allowed and ignored for submission 'grading'."
   ]
  },
  {
   "cell_type": "markdown",
   "metadata": {},
   "source": [
    "Install [Anaconda](https://www.anaconda.com/products/distribution)\n",
    "\n",
    "Make sure that Python 3.9 is installed.\n",
    "\n",
    "Install the following packages:\n",
    "- numpy"
   ]
  },
  {
   "cell_type": "markdown",
   "metadata": {},
   "source": [
    "## Numpy matrix basics"
   ]
  },
  {
   "cell_type": "code",
   "execution_count": 2,
   "metadata": {},
   "outputs": [
    {
     "name": "stdout",
     "output_type": "stream",
     "text": [
      "TEST ARRAY = [[-0.46118944 -0.0974952  -0.20484229  0.04619452]\n",
      " [ 1.41841791 -0.00991111  1.1387788  -0.81681026]\n",
      " [ 0.24389844  0.84352192  1.40405811  0.4520734 ]\n",
      " [ 0.12206156 -0.34262404  0.99391765 -1.60244757]\n",
      " [ 1.12392543  0.41030613 -0.53722452  0.03229528]\n",
      " [-0.34989667  0.71330061  0.08127985 -1.3897264 ]\n",
      " [-0.09041763 -0.53086141  0.0466377   1.36527838]\n",
      " [ 0.42376563 -2.05008235  0.08669888  2.3850152 ]\n",
      " [-1.78423076  0.32264852 -1.05067373  0.6490321 ]\n",
      " [ 1.72241894 -0.31418713  0.22985337  1.81708421]\n",
      " [-1.24373372 -0.0112101  -0.70031067  0.50849047]\n",
      " [ 0.8323522   0.8270553   1.44008373  0.3430716 ]]\n",
      "RESULT [[-0.25092173 -0.18261117 -0.45959528]\n",
      " [ 0.83205024  0.53504167  1.43166912]\n",
      " [ 1.49685691  1.36341458  1.03226284]\n",
      " [ 0.26686845 -0.16460704  0.15051035]\n",
      " [ 0.07429546 -0.20555763  0.77262872]\n",
      " [ 0.29412694 -0.65251177 -0.28756689]\n",
      " [-0.1651072   0.70180016  0.03503517]\n",
      " [-0.8958975   1.18036021  0.24084651]\n",
      " [-0.652656   -0.56998049 -1.63243457]\n",
      " [ 0.39035343  1.29479053  1.65374248]\n",
      " [-0.57434103 -0.36790824 -1.1746063 ]\n",
      " [ 1.58134594  1.39336007  1.48590919]]\n",
      "RESULT SHAPE = (12, 3)\n",
      "MAX RESULT = [-0.18261117  1.43166912  1.49685691  0.26686845  0.77262872  0.29412694\n",
      "  0.70180016  1.18036021 -0.56998049  1.65374248 -0.36790824  1.58134594]\n",
      "SLICED RESULT = [-0.18261117  1.43166912  1.49685691  0.26686845  0.77262872  0.29412694\n",
      "  0.70180016  1.18036021 -0.56998049  1.65374248 -0.36790824  1.58134594]\n",
      "COMPARISON = True\n"
     ]
    }
   ],
   "source": [
    "import numpy as np\n",
    "\n",
    "# Initialize a numpy array of size (12, 4) and name it 'test'\n",
    "# The values of the initalized array are to be created from a random normal distribution\n",
    "\n",
    "# Code here (one line)\n",
    "test = np.random.randn(12, 4)\n",
    "print(f\"TEST ARRAY = {test}\")\n",
    "\n",
    "\n",
    "# Transpose the matrix 'test' and override the initial matrix\n",
    "\n",
    "# Code here (one line)\n",
    "# test = test.T\n",
    "# transposing the original array will cause error due to dimension mismatch and transposing the transposed array is of no use as it will give the original array\n",
    "\n",
    "\n",
    "# Create a new numpy array of size (4, 3) and name it 'test_2' (initialized with a random uniform distribution with a low value of 0.1 and a high value of 0.9)\n",
    "# Multiply (matrix multiplication) the matrix 'test' with the matrix 'test_2' respectively, and name the resulting matrix 'result'\n",
    "\n",
    "# Code here\n",
    "test_2 = np.random.uniform(low=0.1, high=0.9, size=(4,3))\n",
    "result = np.dot(test, test_2)\n",
    "print(f\"RESULT {result}\")\n",
    "\n",
    "\n",
    "# Print the size (shape) of your 'result' matrix\n",
    "result_shape = result.shape\n",
    "print(f\"RESULT SHAPE = {result_shape}\")\n",
    "\n",
    "\n",
    "# Slice the matrix 'result' so that\n",
    " # 1: the first until the fifth index of the first dimension and the last index of the second dimension are used (result matrix shape == (5, ))\n",
    " # 2: the last index of the first dimension and all indices of the second dimension are used (result matrix shape == (3,))\n",
    " # 3: every second index of the first dimension (starting from index 1 - NOT 0) and the first index of the second dimension are used (result matrix shape == (6,))\n",
    "\n",
    "# Code here\n",
    "slice_1 = result[0:5, -1]\n",
    "slice_2 = result[-1, :]\n",
    "slice_3 = result[1::2, 0]\n",
    "\n",
    "\n",
    "# Find the maximum of the matrix 'result' in every dimension, so that the size of the first dimension stays the same and the second dimension is of size 1 (result matrix shape == (12,))\n",
    "# Use a numpy pre-implemented function for it and name the resulting matrix 'max_result'\n",
    "\n",
    "# Code here\n",
    "max_result = np.max(result, axis=1)\n",
    "print(f\"MAX RESULT = {max_result}\")\n",
    "\n",
    "\n",
    "# Find the dimensional information where the max values are positioned in the 'result' matrix with a numpy function. Name the result matrix 'max_result_2'\n",
    "# Use the dimensional information and slice the 'result' matrix by this information (neatly in a one-liner)\n",
    "\n",
    "# Code here\n",
    "max_result_2 = np.argmax(result, axis=1)\n",
    "sliced_result = result[np.arange(result.shape[0]), max_result_2]\n",
    "print(f\"SLICED RESULT = {sliced_result}\")\n",
    "\n",
    "\n",
    "# Compare max_result and max_result_2. Are they the same?\n",
    "# The comparison between the two matrix should either be True or False (not an array of True of False values)\n",
    "\n",
    "# Code here\n",
    "comparison = np.array_equal(max_result, sliced_result)\n",
    "print(f\"COMPARISON = {comparison}\")"
   ]
  },
  {
   "cell_type": "markdown",
   "metadata": {},
   "source": [
    "## Lets start with the Feed forward pass"
   ]
  },
  {
   "cell_type": "code",
   "execution_count": null,
   "metadata": {},
   "outputs": [],
   "source": [
    "# Implement the forward pass of the following neural network structure\n",
    "# The arrows show only in the forward direction (we discuss backprogation later)\n",
    "# More instructions below the image\n",
    "\n",
    "from IPython.display import Image\n",
    "Image(filename='feed_forward.png')"
   ]
  },
  {
   "cell_type": "code",
   "execution_count": 5,
   "metadata": {},
   "outputs": [],
   "source": [
    "# All the following initializations are to be created with a random normal distribution\n",
    "\n",
    "# Initialize the layers and name them w_0, w_1 and w_2\n",
    "# w_0 is connected to the input (left side), w_1 is the middle part of the network and w_2 is connected to the output (right side)\n",
    "# The layers are no vectors! The layers represent an input dimension and output dimension and are therefore matrices!\n",
    "\n",
    "# Code here\n",
    "w_0 = np.array(np.random.randn(2,3))\n",
    "w_1 = np.array(np.random.randn(3,3))\n",
    "w_2 = np.array(np.random.randn(3,2))\n",
    "\n",
    "\n",
    "# Use the vector _input as the network's input\n",
    "_input = np.random.randn(2)\n"
   ]
  },
  {
   "cell_type": "code",
   "execution_count": 6,
   "metadata": {},
   "outputs": [
    {
     "name": "stdout",
     "output_type": "stream",
     "text": [
      "[3.89764492 9.32266905]\n"
     ]
    }
   ],
   "source": [
    "# Perform the matrix multiplications to get the output (print the output)\n",
    "\n",
    "# Code here\n",
    "output_layer_0 = w_0.T.dot(_input)\n",
    "output_layer_1 = w_1.T.dot(output_layer_0)\n",
    "final_output = w_2.T.dot(output_layer_1)\n",
    "\n",
    "print(final_output)"
   ]
  },
  {
   "cell_type": "code",
   "execution_count": 7,
   "metadata": {},
   "outputs": [
    {
     "name": "stdout",
     "output_type": "stream",
     "text": [
      "[ 0.         -0.12286137]\n"
     ]
    }
   ],
   "source": [
    "# Set all weight except one path to zero and compare the result of the output to your own (path) calculations.\n",
    "# A path is defined here as one input to output connection by passing only one node per layer.\n",
    "# Is the result correct?\n",
    "\n",
    "# Code here\n",
    "w_0_zeroed = np.zeros_like(w_0)\n",
    "w_1_zeroed = np.zeros_like(w_1)\n",
    "w_2_zeroed = np.zeros_like(w_2)\n",
    "\n",
    "\n",
    "w_0_zeroed[0, 2] = w_0[0, 2]\n",
    "w_1_zeroed[2, 2] = w_1[2, 2]\n",
    "w_2_zeroed[2, 1] = w_2[2, 1]\n",
    "\n",
    "\n",
    "output_layer_0_zeroed = w_0_zeroed.T.dot(_input)\n",
    "output_layer_1_zeroed = w_1_zeroed.T.dot(output_layer_0_zeroed)\n",
    "final_output_zeroed = w_2_zeroed.T.dot(output_layer_1_zeroed)\n",
    "\n",
    "print(final_output_zeroed)"
   ]
  }
 ],
 "metadata": {
  "kernelspec": {
   "display_name": "Python 3 (ipykernel)",
   "language": "python",
   "name": "python3"
  },
  "language_info": {
   "codemirror_mode": {
    "name": "ipython",
    "version": 3
   },
   "file_extension": ".py",
   "mimetype": "text/x-python",
   "name": "python",
   "nbconvert_exporter": "python",
   "pygments_lexer": "ipython3",
   "version": "3.11.7"
  },
  "vscode": {
   "interpreter": {
    "hash": "25301cabe4c6f833fd20f15b1b22933971919908771eb627a83fe325b4fb6671"
   }
  }
 },
 "nbformat": 4,
 "nbformat_minor": 4
}
