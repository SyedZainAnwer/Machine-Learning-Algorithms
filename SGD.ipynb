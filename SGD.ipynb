{
 "cells": [
  {
   "cell_type": "markdown",
   "id": "c6fb176d",
   "metadata": {},
   "source": [
    "# Stochastic Gradient Descent - Linear Regression"
   ]
  },
  {
   "cell_type": "raw",
   "id": "18d9da9a",
   "metadata": {},
   "source": [
    "Implement the Stochastic Gradient Descent (SGD) and update the weights of a linear regression model"
   ]
  },
  {
   "cell_type": "markdown",
   "id": "10609e29",
   "metadata": {},
   "source": [
    "## Data for the linear regression model"
   ]
  },
  {
   "cell_type": "raw",
   "id": "d1404413",
   "metadata": {},
   "source": [
    "Use the following data for the training and evaluation of your model"
   ]
  },
  {
   "cell_type": "code",
   "execution_count": 2,
   "id": "2731c87b",
   "metadata": {},
   "outputs": [],
   "source": [
    "import numpy as np"
   ]
  },
  {
   "cell_type": "code",
   "execution_count": 3,
   "id": "55d4b730",
   "metadata": {},
   "outputs": [],
   "source": [
    "# Data points\n",
    "data_amount = 15\n",
    "max_num = 10\n",
    "X = np.random.randint(max_num, size=(data_amount, 3))\n",
    "\n",
    "# We generate them by \"knowing\" the output weights for this example (this is not the case for real data!)\n",
    "final_weights = np.random.rand(X.shape[1])\n",
    "final_weights = final_weights / np.sum(final_weights)\n",
    "\n",
    "final_bias = 0.2\n",
    "\n",
    "# Corresponding labels\n",
    "random_noise = np.random.rand(X.shape[0]) / 7.5 # ranges from 0-1. We divide that by 7.5 to not get to much noise in here\n",
    "y = np.dot(final_weights, X.T) + final_bias + random_noise\n",
    "\n",
    "#print('data set X\\n', X)\n",
    "#print('labels y\\n', y)"
   ]
  },
  {
   "cell_type": "markdown",
   "id": "daec3881",
   "metadata": {},
   "source": [
    "# Training and test data"
   ]
  },
  {
   "cell_type": "code",
   "execution_count": 4,
   "id": "a3b736c2",
   "metadata": {},
   "outputs": [],
   "source": [
    "train_len = int(data_amount * 0.75)\n",
    "\n",
    "# We train with the following data\n",
    "X_train = X[:train_len]\n",
    "y_train = y[:train_len]\n",
    "\n",
    "# We test / evaluate with the following data\n",
    "X_test = X[train_len:]\n",
    "y_test = y[train_len:]"
   ]
  },
  {
   "cell_type": "markdown",
   "id": "331bd43e",
   "metadata": {},
   "source": [
    "## Information about the model"
   ]
  },
  {
   "cell_type": "code",
   "execution_count": 5,
   "id": "29c436eb",
   "metadata": {},
   "outputs": [],
   "source": [
    "# We set the inital weights randomly\n",
    "weights = np.random.rand(X.shape[1])\n",
    "\n",
    "# The bias value is set to 1 initially\n",
    "bias = np.array([1])"
   ]
  },
  {
   "cell_type": "markdown",
   "id": "71627d25",
   "metadata": {},
   "source": [
    "### Some more information"
   ]
  },
  {
   "cell_type": "markdown",
   "id": "9e60e4ed",
   "metadata": {},
   "source": [
    "We know the regression equation:\n",
    "\n",
    "$y_{pred}= w_1x_1 + w_2x_2 + \\ldots + w_nx_n + b$"
   ]
  },
  {
   "cell_type": "code",
   "execution_count": 6,
   "id": "7f6c5abb",
   "metadata": {},
   "outputs": [
    {
     "name": "stdout",
     "output_type": "stream",
     "text": [
      "Outputs for our untrained model: [ 6.17202369 13.93490165  7.06279375  8.89593029]\n",
      "Outputs for the final model: [6.15062032 6.60612773 2.3166546  4.77131621]\n"
     ]
    }
   ],
   "source": [
    "# What are the current results of the untrained model?\n",
    "y_untrained = np.dot(weights, X_test.T) + bias\n",
    "print('Outputs for our untrained model:', y_untrained)\n",
    "\n",
    "# What are the results of the final model (that we want to achieve by updating the weights by the Stochastic gradient descent method)\n",
    "y_final = np.dot(final_weights, X_test.T) + final_bias\n",
    "print('Outputs for the final model:', y_final)"
   ]
  },
  {
   "cell_type": "markdown",
   "id": "39c3c815",
   "metadata": {},
   "source": [
    "### Loss function"
   ]
  },
  {
   "cell_type": "markdown",
   "id": "6e5958c9",
   "metadata": {},
   "source": [
    "We want to use the mean squarred error to calculate the loss for the model outputs which is defined as follows:\n",
    "\n",
    "$$MSE = \\frac{1}{n}\\sum_{i=1}^n (y_i-y_{i_{pred}})^2$$"
   ]
  },
  {
   "cell_type": "code",
   "execution_count": 7,
   "id": "d362b4e4",
   "metadata": {},
   "outputs": [],
   "source": [
    "mse = lambda y, y_pred: np.mean(np.sum((y-y_pred)**2))"
   ]
  },
  {
   "cell_type": "code",
   "execution_count": 8,
   "id": "c81268ef",
   "metadata": {},
   "outputs": [
    {
     "name": "stdout",
     "output_type": "stream",
     "text": [
      "The loss of the untrained model is: 91.37580517566529\n",
      "The loss of the final model is: 0.01966863103431316\n"
     ]
    }
   ],
   "source": [
    "# In our example the loss for our untrained model is:\n",
    "loss_untrained = mse(y_test, y_untrained)\n",
    "print('The loss of the untrained model is:', loss_untrained)\n",
    "\n",
    "# Loss for the final model\n",
    "loss_final = mse(y_test, y_final)\n",
    "print('The loss of the final model is:', loss_final)"
   ]
  },
  {
   "cell_type": "markdown",
   "id": "a2854ef6",
   "metadata": {},
   "source": [
    "## Your stochastic gradient descent implementation to optimize the weights of your model"
   ]
  },
  {
   "cell_type": "code",
   "execution_count": 9,
   "id": "decf2db5",
   "metadata": {},
   "outputs": [],
   "source": [
    "# Summary on what we know so far:\n",
    "\n",
    "# We know the loss function: Variable 'mse' (Mean squared error)\n",
    "# We know the initial weights that we want to optimize: variable 'weights'\n",
    "# We know the initial bias value: variable 'bias'"
   ]
  },
  {
   "cell_type": "code",
   "execution_count": 25,
   "id": "c87ab9df",
   "metadata": {},
   "outputs": [
    {
     "name": "stdout",
     "output_type": "stream",
     "text": [
      "[6.21255851 6.68838397 2.27466833 4.78833736]\n",
      "[6.22384471 6.63565508 2.40487691 4.84649453]\n"
     ]
    }
   ],
   "source": [
    "import numpy as np\n",
    "\n",
    "class LinearRegression:\n",
    "    def __init__(self, learning_rate=0.005, iterations=1000):\n",
    "        self.learning_rate = learning_rate\n",
    "        self.iterations = iterations\n",
    "        self.weights = None\n",
    "        self.bias = None\n",
    "\n",
    "    def fit(self, x, y):\n",
    "        n_samples, n_features = x.shape\n",
    "        self.weights = np.zeros(n_features)\n",
    "        self.bias = 0\n",
    "\n",
    "        for i in range(self.iterations):\n",
    "            # y_pred = (w1.x1) + b\n",
    "            y_pred = np.dot(x, self.weights) + self.bias\n",
    "\n",
    "            # gradient in terms of weight\n",
    "            dw = (1/n_samples) * np.dot(x.T, (y_pred-y))\n",
    "            db = (1/n_samples) * np.sum(y_pred-y)\n",
    "\n",
    "            self.weights= self.weights - self.learning_rate * dw\n",
    "            self.bias = self.bias - self.learning_rate * db\n",
    "\n",
    "    def predict(self, X):\n",
    "        y_pred = np.dot(X, self.weights) + self.bias\n",
    "        return y_pred\n",
    "\n",
    "\n",
    "reg = LinearRegression()\n",
    "reg.fit(X_train, y_train)\n",
    "predictions = reg.predict(X_test)\n",
    "\n",
    "print(predictions)\n",
    "print(y_test)"
   ]
  },
  {
   "cell_type": "markdown",
   "id": "eda1a991",
   "metadata": {},
   "source": [
    "## Compare the results with the Test data"
   ]
  },
  {
   "cell_type": "code",
   "execution_count": 32,
   "id": "5d38f5df-1881-426b-8f2b-b0c8f04085d8",
   "metadata": {},
   "outputs": [
    {
     "name": "stdout",
     "output_type": "stream",
     "text": [
      "The difference between test and the predicted value = 0.005811060839403353\n"
     ]
    }
   ],
   "source": [
    "def mse(y_test, predictions):\n",
    "    return np.mean((y_test-predictions)**2)\n",
    "\n",
    "mse = mse(y_test, predictions)\n",
    "print(f\"The difference between test and the predicted value = {mse}\")"
   ]
  },
  {
   "cell_type": "code",
   "execution_count": null,
   "id": "27376650-cff3-403f-957d-61fc0661db79",
   "metadata": {},
   "outputs": [],
   "source": []
  }
 ],
 "metadata": {
  "kernelspec": {
   "display_name": "Python 3 (ipykernel)",
   "language": "python",
   "name": "python3"
  },
  "language_info": {
   "codemirror_mode": {
    "name": "ipython",
    "version": 3
   },
   "file_extension": ".py",
   "mimetype": "text/x-python",
   "name": "python",
   "nbconvert_exporter": "python",
   "pygments_lexer": "ipython3",
   "version": "3.11.7"
  }
 },
 "nbformat": 4,
 "nbformat_minor": 5
}
