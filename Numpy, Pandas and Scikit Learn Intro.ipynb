{
 "cells": [
  {
   "cell_type": "markdown",
   "id": "a8bce309",
   "metadata": {},
   "source": [
    "# Numpy, Pandas, Scikit-Learn"
   ]
  },
  {
   "cell_type": "markdown",
   "id": "b93fc884",
   "metadata": {},
   "source": [
    "## NumPy: [NumPy](https://numpy.org/) [Quickstart](https://numpy.org/devdocs/user/quickstart.html)"
   ]
  },
  {
   "cell_type": "markdown",
   "id": "0f224258",
   "metadata": {},
   "source": [
    "From the last practicals -> Go through the Quickstart and learn the basic commands of numpy. Why do you think that we should use this for further machine learning tasks?"
   ]
  },
  {
   "cell_type": "markdown",
   "id": "2a1feb63",
   "metadata": {},
   "source": [
    "### Some more NumPy tasks"
   ]
  },
  {
   "cell_type": "code",
   "execution_count": 2,
   "id": "cef36e75",
   "metadata": {},
   "outputs": [],
   "source": [
    "import numpy as np"
   ]
  },
  {
   "cell_type": "markdown",
   "id": "bc38b321",
   "metadata": {},
   "source": [
    "#### Loops"
   ]
  },
  {
   "cell_type": "code",
   "execution_count": 4,
   "id": "6a575764",
   "metadata": {},
   "outputs": [
    {
     "name": "stdout",
     "output_type": "stream",
     "text": [
      "[0.1, 0.2, 0.3, 0.4, 0.5, 0.6, 0.7, 0.8, 0.9, 1.0]\n",
      "[0.1 0.2 0.3 0.4 0.5 0.6 0.7 0.8 0.9 1. ]\n"
     ]
    }
   ],
   "source": [
    "# use numpy for loops, e. g. how can you loop floating point numbers in Python e. g. (0.1, 0.2, 0.3, 0.4, ..., 1).\n",
    "# Of course, there are solutions to do that but try it out with numpy arange.\n",
    "import numpy as np\n",
    "\n",
    "# 1) Code the pythonic way for looping floating point numbers: [0.1, 0.2, 0.3, 0.4, ..., 1]\n",
    "numbers = [i/10 for i in range(1,11)]\n",
    "print(numbers)\n",
    "# 2) Code the Numpy way:\n",
    "numpy_numbers = np.arange(0.1,1.1,0.1)\n",
    "print(numpy_numbers)\n",
    "\n",
    "\n",
    "\n",
    "# This applies for more than only this example. But what do you find more readable?"
   ]
  },
  {
   "cell_type": "markdown",
   "id": "fda4a1fc",
   "metadata": {},
   "source": [
    "#### List operations"
   ]
  },
  {
   "cell_type": "code",
   "execution_count": 11,
   "id": "5d053961",
   "metadata": {},
   "outputs": [
    {
     "name": "stdout",
     "output_type": "stream",
     "text": [
      "[[1, 2], [3, 4], [5, 6], [7, 8], [9, 10]]\n",
      "[[ 1  2]\n",
      " [ 3  4]\n",
      " [ 5  6]\n",
      " [ 7  8]\n",
      " [ 9 10]]\n"
     ]
    }
   ],
   "source": [
    "# Define the list with name _list in pythonic way and numpy way\n",
    "_list = [[1, 2], [3, 4], [5, 6], [7, 8], [9, 10]]\n",
    "\n",
    "# 1) pythonic way\n",
    "p_list = [[i,i+1] for i in range(1,11,2)]\n",
    "print(p_list)\n",
    "\n",
    "# 2) Numpy way\n",
    "n_list = np.arange(1,11,1).reshape(5,2)\n",
    "print(n_list)"
   ]
  },
  {
   "cell_type": "markdown",
   "id": "9cc90d1c",
   "metadata": {},
   "source": [
    "#### Matrix multiplication"
   ]
  },
  {
   "cell_type": "code",
   "execution_count": 21,
   "id": "26a35056",
   "metadata": {},
   "outputs": [
    {
     "name": "stdout",
     "output_type": "stream",
     "text": [
      "Numpy transpose [[2.1 4.5]\n",
      " [3.5 6.6]\n",
      " [7.2 7.7]]\n",
      "Python transpose:  [[2.1, 4.5], [3.5, 6.6], [7.2, 7.7]]\n",
      "\n",
      "Numpy mat mul:\n",
      " [[34 67]\n",
      " [61 78]]\n",
      "Result of matrix multiplication:\n",
      "[34, 67]\n",
      "[61, 78]\n"
     ]
    }
   ],
   "source": [
    "# Define the pythonic way for the following numpy expressions\n",
    "\n",
    "#### Task 1\n",
    "_list = [[2.1, 3.5, 7.2], [4.5, 6.6, 7.7]]\n",
    "# 1) Numpy way\n",
    "\n",
    "# Numpy transpose\n",
    "_np_list = np.array(_list).T\n",
    "print('Numpy transpose', _np_list)\n",
    "\n",
    "# 2) Pythonic way for numpy transpose\n",
    "# YOUR CODE...\n",
    "p_list = []\n",
    "for i in range(3):\n",
    "    p_list.append([_list[0][i], _list[1][i]])\n",
    "\n",
    "print(\"Python transpose: \",p_list)\n",
    "    \n",
    "\n",
    "\n",
    "#### Task 2\n",
    "_list1 = [[2, 3, 7],\n",
    "        [4, 6, 7]]\n",
    "_list2 = [[3, 4],\n",
    "          [7, 1],\n",
    "          [1, 8]]\n",
    "# 1) Numpy mat mul\n",
    "_np_mul = np.matmul(_list1, _list2)\n",
    "print('\\nNumpy mat mul:\\n', _np_mul)\n",
    "\n",
    "# 2) Pythonic way\n",
    "# YOUR CODE...\n",
    "result = [[0 for _ in range(len(_list2[0]))] for _ in range(len(_list1))]\n",
    "\n",
    "    # Perform matrix multiplication\n",
    "for i in range(len(_list1)):\n",
    "    for j in range(len(_list2[0])):\n",
    "        for k in range(len(_list2)):\n",
    "            result[i][j] += _list1[i][k] * _list2[k][j]\n",
    "\n",
    "    # Print the result\n",
    "print(\"Result of matrix multiplication:\")\n",
    "for row in result:\n",
    "    print(row)"
   ]
  },
  {
   "cell_type": "markdown",
   "id": "2a2b85f7",
   "metadata": {},
   "source": [
    "## Pandas: [Pandas](https://pandas.pydata.org/) [Quickstart](https://pandas.pydata.org/docs/getting_started/intro_tutorials/index.html)"
   ]
  },
  {
   "cell_type": "code",
   "execution_count": 23,
   "id": "96752b62",
   "metadata": {},
   "outputs": [],
   "source": [
    "import pandas as pd"
   ]
  },
  {
   "cell_type": "code",
   "execution_count": 24,
   "id": "95dc5411",
   "metadata": {},
   "outputs": [
    {
     "name": "stdout",
     "output_type": "stream",
     "text": [
      "Columns of the DataFrame:\n",
      "Index(['RowNumber', 'CustomerId', 'Surname', 'CreditScore', 'Geography',\n",
      "       'Gender', 'Age', 'Tenure', 'Balance', 'NumOfProducts', 'HasCrCard',\n",
      "       'IsActiveMember', 'EstimatedSalary', 'Exited'],\n",
      "      dtype='object')\n",
      "Values for selected columns:\n",
      "      Gender  Age  Tenure    Balance\n",
      "0     Female   42       2       0.00\n",
      "1     Female   41       1   83807.86\n",
      "2     Female   42       8  159660.80\n",
      "3     Female   39       1       0.00\n",
      "4     Female   43       2  125510.82\n",
      "...      ...  ...     ...        ...\n",
      "9995    Male   39       5       0.00\n",
      "9996    Male   35      10   57369.61\n",
      "9997  Female   36       7       0.00\n",
      "9998    Male   42       3   75075.31\n",
      "9999  Female   28       4  130142.79\n",
      "\n",
      "[10000 rows x 4 columns]\n",
      "Rows where Geography is France and selected columns:\n",
      "      Gender  Age  Tenure    Balance\n",
      "0     Female   42       2       0.00\n",
      "2     Female   42       8  159660.80\n",
      "3     Female   39       1       0.00\n",
      "6       Male   50       7       0.00\n",
      "8       Male   44       4  142051.07\n",
      "...      ...  ...     ...        ...\n",
      "9994  Female   29       2       0.00\n",
      "9995    Male   39       5       0.00\n",
      "9996    Male   35      10   57369.61\n",
      "9997  Female   36       7       0.00\n",
      "9999  Female   28       4  130142.79\n",
      "\n",
      "[5014 rows x 4 columns]\n",
      "Grouped data with mean churn rate:\n",
      "                    Exited\n",
      "Geography Gender          \n",
      "France    Female  0.203450\n",
      "          Male    0.127134\n",
      "Germany   Female  0.375524\n",
      "          Male    0.278116\n",
      "Spain     Female  0.212121\n",
      "          Male    0.131124\n"
     ]
    }
   ],
   "source": [
    "# Download the churn dataset from Kaggle: https://www.kaggle.com/datasets/shubh0799/churn-modelling?resource=download\n",
    "# 1) Read the dataset using pandas\n",
    "df = pd.read_csv(\"./Churn_Modelling.csv\")\n",
    "\n",
    "# 2) Print the columns of the pandas DataFrame\n",
    "print(\"Columns of the DataFrame:\")\n",
    "print(df.columns)\n",
    "\n",
    "# 3) Drop the column 'CustomerId'\n",
    "df.drop(columns=['CustomerId'], inplace=True)\n",
    "\n",
    "# 4) Print the values for the columns 'Gender', 'Age', 'Tenure', 'Balance' only\n",
    "print(\"Values for selected columns:\")\n",
    "print(df[['Gender', 'Age', 'Tenure', 'Balance']])\n",
    "\n",
    "# 5) Return only the rows where Geography == 'France' and columns 'Gender', 'Age', 'Tenure', 'Balance'\n",
    "print(\"Rows where Geography is France and selected columns:\")\n",
    "print(df[df['Geography'] == 'France'][['Gender', 'Age', 'Tenure', 'Balance']])\n",
    "\n",
    "# 6) Group by the columns 'Geography' and 'Gender' and use the mean function to aggregate the churn rate ('Exited' column)\n",
    "grouped_data = df.groupby(['Geography', 'Gender']).agg({'Exited': 'mean'})\n",
    "print(\"Grouped data with mean churn rate:\")\n",
    "print(grouped_data)\n"
   ]
  },
  {
   "cell_type": "markdown",
   "id": "40eaf39b",
   "metadata": {},
   "source": [
    "## SKlearn: [Scikit-learn](https://scikit-learn.org/stable/) [Quickstart](https://scikit-learn.org/stable/getting_started.html)"
   ]
  },
  {
   "cell_type": "code",
   "execution_count": 26,
   "id": "0c865139",
   "metadata": {},
   "outputs": [],
   "source": [
    "# We start the k nearest neighbor algorithm with sklearn\n",
    "from sklearn.neighbors import KNeighborsClassifier"
   ]
  },
  {
   "cell_type": "code",
   "execution_count": 33,
   "id": "f120bc8b",
   "metadata": {},
   "outputs": [
    {
     "name": "stdout",
     "output_type": "stream",
     "text": [
      "[[0]\n",
      " [1]\n",
      " [2]\n",
      " [3]\n",
      " [4]\n",
      " [5]\n",
      " [6]\n",
      " [7]\n",
      " [8]]\n",
      "[0, 0, 0, 1, 1, 1, 2, 2, 2]\n"
     ]
    }
   ],
   "source": [
    "# Use the following values and labels to calcualte the kNN\n",
    "X = np.arange(0, 9).reshape(9,1)\n",
    "y = [0, 0, 0, 1, 1, 1, 2, 2, 2]\n",
    "print(X)\n",
    "print(y)\n",
    "# we know that we have three clusters [0 to 2] has label 0; [3 to 5] has label 1; [6 to 8] has label 2"
   ]
  },
  {
   "cell_type": "code",
   "execution_count": 27,
   "id": "41b09567",
   "metadata": {},
   "outputs": [],
   "source": [
    "# Start the KNN algorithm with the values above\n",
    "# YOUR CODE ...\n",
    "knn = KNeighborsClassifier(n_neighbors=3)\n"
   ]
  },
  {
   "cell_type": "code",
   "execution_count": 34,
   "id": "c3c95e65",
   "metadata": {},
   "outputs": [
    {
     "name": "stdout",
     "output_type": "stream",
     "text": [
      "Predicted label for value 4: [1]\n"
     ]
    }
   ],
   "source": [
    "# predict the label for value 4\n",
    "# YOUR CODE ...\n",
    "knn.fit(X, y)\n",
    "prediction = knn.predict([[4]])\n",
    "\n",
    "print(\"Predicted label for value 4:\", prediction)"
   ]
  },
  {
   "cell_type": "code",
   "execution_count": null,
   "id": "7c7b0860",
   "metadata": {},
   "outputs": [],
   "source": []
  }
 ],
 "metadata": {
  "kernelspec": {
   "display_name": "Python 3 (ipykernel)",
   "language": "python",
   "name": "python3"
  },
  "language_info": {
   "codemirror_mode": {
    "name": "ipython",
    "version": 3
   },
   "file_extension": ".py",
   "mimetype": "text/x-python",
   "name": "python",
   "nbconvert_exporter": "python",
   "pygments_lexer": "ipython3",
   "version": "3.11.7"
  }
 },
 "nbformat": 4,
 "nbformat_minor": 5
}
