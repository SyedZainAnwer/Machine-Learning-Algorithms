{
 "cells": [
  {
   "cell_type": "markdown",
   "id": "83d20994",
   "metadata": {},
   "source": [
    "# k-Nearest Neighbor"
   ]
  },
  {
   "cell_type": "raw",
   "id": "01accbd5",
   "metadata": {},
   "source": [
    "1) Implement the k-Nearest Neighbor algorithm with Python!\n",
    "2) It should be applicable for classification and regression tasks!\n",
    "3) Extend your algorithm with a weighting function (see the lecture slides)"
   ]
  },
  {
   "cell_type": "code",
   "execution_count": null,
   "id": "b1b78408",
   "metadata": {},
   "outputs": [],
   "source": [
    "import numpy as np"
   ]
  },
  {
   "cell_type": "code",
   "execution_count": null,
   "id": "deb6a6bf",
   "metadata": {},
   "outputs": [],
   "source": [
    "# YOUR CODE HERE"
   ]
  },
  {
   "cell_type": "markdown",
   "id": "3de8f1a5",
   "metadata": {},
   "source": [
    "## Compare the results with the sklearn kNN algorithm"
   ]
  },
  {
   "cell_type": "code",
   "execution_count": 29,
   "id": "76cd6b19",
   "metadata": {},
   "outputs": [],
   "source": [
    "import numpy as np\n",
    "import matplotlib.pyplot as plt\n",
    "# Make your code work with the following inputs:\n",
    "# Use this data as your reference data points and labels\n",
    "\n",
    "# Classification data\n",
    "cl_X = np.arange(0, 9).reshape(9,1)\n",
    "cl_y = np.array([0, 0, 0, 1, 1, 1, 2, 2, 2])\n",
    "\n",
    "# print('Classification labels:\\n', y, '\\tShape:', cl_y.shape)\n",
    "\n",
    "# Regression data\n",
    "r_X = np.array([[1, 2], [2, 4], [3, 6], [4, 8], [5, 10]])\n",
    "r_y = np.array([1, 2, 3, 4, 5])\n",
    "# print('Regression input:\\n', r_X, '\\tShape:', r_X.shape)\n",
    "# print('Regression labels:\\n', r_y, '\\tShape:', r_y.shape)\n",
    "\n",
    "\n",
    "# Use the following list to test your code for classification\n",
    "cl_X_test = np.array([[2.1], [5.2], [7.2]])\n",
    "\n",
    "r_X_test = np.array([[2.1, 5.1], [2.6, 6.2]])"
   ]
  },
  {
   "cell_type": "code",
   "execution_count": 6,
   "id": "f76d236e",
   "metadata": {},
   "outputs": [
    {
     "name": "stdout",
     "output_type": "stream",
     "text": [
      "[0, 1, 2]\n",
      "[0 1 2]\n"
     ]
    }
   ],
   "source": [
    "# classification (dont forget the weighting function)\n",
    "import numpy as np\n",
    "from collections import Counter\n",
    "from sklearn.neighbors import KNeighborsClassifier\n",
    "\n",
    "# yours\n",
    "def euclidian_distance(x1,x2):\n",
    "    distance = np.sqrt(np.sum((x1 - x2)**2))\n",
    "    return distance\n",
    "\n",
    "class KNN:\n",
    "    def  __init__(self,neighbours=3,weights=\"uniform\"):\n",
    "        self.k = neighbours\n",
    "        self.weights = weights\n",
    "    def fit(self,X,y):\n",
    "        self.X_train = X\n",
    "        self.y_train = y \n",
    "        \n",
    "    def predict(self,X ):\n",
    "        predictions = [self._predict(x) for x in X]\n",
    "        \n",
    "        return predictions\n",
    "        \n",
    "    def _predict(self,x):\n",
    "        #compute the distances\n",
    "        distances = [euclidian_distance(x,x_train) for x_train in self.X_train]\n",
    "        \n",
    "        #get the closest K\n",
    "        k_indices = np.argsort(distances)[:self.k] #returns the k closest neighbour indices to my value\n",
    "        k_nearest_labels = [self.y_train[i] for i in k_indices] #returns the labels of those k closest neighbours\n",
    "\n",
    "        #majority votes\n",
    "        #finds which label has occured the most and then return it\n",
    "        if self.weights == \"uniform\":\n",
    "            counts = np.bincount(k_nearest_labels) \n",
    "            return np.argmax(counts)\n",
    "        if self.weights == \"distance\":\n",
    "                weights_distance = [1 / d if d != 0 else float('inf') for d in distances]\n",
    "                weighted_votes = Counter(dict(zip(k_nearest_labels, weights_distance)))\n",
    "                prediction = weighted_votes.most_common(1)[0][0]\n",
    "                return prediction\n",
    "\n",
    "\n",
    "cl_X = np.arange(0, 9).reshape(9,1)\n",
    "cl_y = np.array([0, 0, 0, 1, 1, 1, 2, 2, 2])  \n",
    "cl_X_test = np.array([[2.1], [5.2], [7.2]])\n",
    "knn = KNN(3,weights=\"distance\")\n",
    "knn.fit(cl_X,cl_y)\n",
    "\n",
    "print(knn.predict(cl_X_test))\n",
    "# sklearn comparison\n",
    "\n",
    "model = KNeighborsClassifier(3,weights=\"distance\")\n",
    "model.fit(cl_X, cl_y)\n",
    "predict = model.predict(cl_X_test)\n",
    "print(predict)\n",
    "\n"
   ]
  },
  {
   "cell_type": "code",
   "execution_count": 10,
   "id": "1c588159",
   "metadata": {},
   "outputs": [
    {
     "name": "stdout",
     "output_type": "stream",
     "text": [
      "[2.0, 3.0]\n",
      "[2.2414313 3.       ]\n"
     ]
    }
   ],
   "source": [
    "# regression (dont forget the weighting function)\n",
    "import numpy as np\n",
    "from sklearn.neighbors import KNeighborsRegressor\n",
    "# yours\n",
    "def euclidian_distance(x1,x2):\n",
    "   return np.sqrt(np.sum((x1 - x2)**2))\n",
    "\n",
    "class KNNReg:\n",
    "    def  __init__(self,neighbours=3):\n",
    "        self.k = neighbours\n",
    "    def fit(self,X,y):\n",
    "        self.X_train = X\n",
    "        self.y_train = y \n",
    "        \n",
    "    def predict(self,X ):\n",
    "        predictions = [self._predict(x) for x in X]\n",
    "        \n",
    "        return predictions\n",
    "        \n",
    "    def _predict(self,x):\n",
    "        #compute the distances\n",
    "        distances = [euclidian_distance(x,x_train) for x_train in self.X_train]\n",
    "        \n",
    "        #get the closest K\n",
    "        k_indices = np.argsort(distances)[:self.k] #returns the k closest neighbour indices to my value\n",
    "        k_nearest_y_vals = [self.y_train[i] for i in k_indices] #returns the labels of those k closest neighbours\n",
    "        \n",
    "        #majority votes\n",
    "        #finds which label has occurred the most and then return it\n",
    "        \n",
    "        return np.mean(k_nearest_y_vals)\n",
    "\n",
    "r_X = np.array([[1, 2], [2, 4], [3, 6], [4, 8], [5, 10]])\n",
    "r_y = np.array([1, 2, 3, 4, 5])\n",
    "r_X_test = np.array([[2.1, 5.1], [2.6, 6.2]])\n",
    "knn = KNNReg(neighbours=3)\n",
    "\n",
    "# Train the classifier\n",
    "knn.fit(r_X, r_y)\n",
    "\n",
    "# Make predictions\n",
    "\n",
    "predictions = knn.predict(r_X_test)\n",
    "print(predictions)\n",
    "\n",
    "# sklearn comparison\n",
    "\n",
    "neigh = KNeighborsRegressor(n_neighbors=3,weights=\"distance\")\n",
    "neigh.fit(r_X,r_y)\n",
    "y_pred = neigh.predict(r_X_test)\n",
    "\n",
    "print(y_pred)"
   ]
  },
  {
   "cell_type": "code",
   "execution_count": null,
   "id": "947966cd",
   "metadata": {},
   "outputs": [],
   "source": []
  }
 ],
 "metadata": {
  "kernelspec": {
   "display_name": "Python 3 (ipykernel)",
   "language": "python",
   "name": "python3"
  },
  "language_info": {
   "codemirror_mode": {
    "name": "ipython",
    "version": 3
   },
   "file_extension": ".py",
   "mimetype": "text/x-python",
   "name": "python",
   "nbconvert_exporter": "python",
   "pygments_lexer": "ipython3",
   "version": "3.11.7"
  }
 },
 "nbformat": 4,
 "nbformat_minor": 5
}
